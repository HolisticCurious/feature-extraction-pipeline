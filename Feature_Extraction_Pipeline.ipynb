{
  "nbformat": 4,
  "nbformat_minor": 0,
  "metadata": {
    "colab": {
      "name": "Feature Extraction Pipeline.ipynb",
      "provenance": [],
      "collapsed_sections": []
    },
    "kernelspec": {
      "display_name": "Python 3",
      "name": "python3"
    }
  },
  "cells": [
    {
      "cell_type": "markdown",
      "metadata": {
        "id": "T23NH6Ye7bJT"
      },
      "source": [
        "# ***Some notes***\n",
        "\n",
        "The notebook includes the steps of importing images, calculating morphological and textural features.\n",
        " \n",
        "\n",
        "*   Initial images may be in any format, but the code may need changes. Currently, it is using cv's imread (see [documentation](https://docs.opencv.org/master/d4/da8/group__imgcodecs.html#ga288b8b3da0892bd651fce07b3bbd3a56)).\n",
        "*   Images as processed as grayscale. If multi-channel, channels will be merged according to current code. If the analysis is intended to look at individual channels, split image into different files.\n",
        "*   The code also includes to option to import a label, in the format csv (with image name and numerical label). This is, of course, not a mandatory step; feature extraction can be performed without classification.\n",
        "*   GLCM features cannot be calculated in float images. As such, intensity values may have to be normalized prior to feature calculation.\n"
      ]
    },
    {
      "cell_type": "markdown",
      "metadata": {
        "id": "F7ekWwhh7bJf"
      },
      "source": [
        "# Import Images"
      ]
    },
    {
      "cell_type": "code",
      "metadata": {
        "id": "AS7vTP_G7bJg"
      },
      "source": [
        "#initial imports\n",
        "import pandas as pd\n",
        "import cv2\n",
        "from os import listdir"
      ],
      "execution_count": null,
      "outputs": []
    },
    {
      "cell_type": "code",
      "metadata": {
        "colab": {
          "base_uri": "https://localhost:8080/"
        },
        "id": "fWm7Gs2f7bJh",
        "outputId": "b8262ba5-d0cf-42a1-95bf-d6d999ac790e"
      },
      "source": [
        "#if data in drive\n",
        "from google.colab import drive\n",
        "drive.mount('/content/drive')"
      ],
      "execution_count": null,
      "outputs": [
        {
          "output_type": "stream",
          "text": [
            "Drive already mounted at /content/drive; to attempt to forcibly remount, call drive.mount(\"/content/drive\", force_remount=True).\n"
          ],
          "name": "stdout"
        }
      ]
    },
    {
      "cell_type": "code",
      "metadata": {
        "id": "J8UHuhHbeutG"
      },
      "source": [
        "#open images and create dataset with images\n",
        "\n",
        "df = pd.DataFrame(columns = ['Patch', 'Image Name']) #patch is ROI to be imported\n",
        "\n",
        "\n",
        "patches = []\n",
        "names = []\n",
        "\n",
        "mypath = 'PATH_TO_IMAGE_FOLDER'\n",
        "\n",
        "imglist = listdir(mypath)\n",
        "\n",
        "for img in imglist:\n",
        "  path = mypath + '/' + img\n",
        "  patch = cv2.imread(path, cv2.IMREAD_GRAYSCALE) #read image as greyscale\n",
        "  \n",
        "  patches.append(patch)\n",
        "  names.append(img)\n",
        "\n",
        "df['Patch'] = patches #saves roi\n",
        "df['Image Name'] = names #saves image name\n",
        "\n",
        "\n",
        "df"
      ],
      "execution_count": null,
      "outputs": []
    },
    {
      "cell_type": "code",
      "metadata": {
        "id": "yOdna-7k5bx8"
      },
      "source": [
        "#get labels\r\n",
        "\r\n",
        "labels = pd.read_csv('PATH_TO_FILE.csv')\r\n",
        "\r\n",
        "label_df = pd.DataFrame( columns = ['Image Name', 'Label'])\r\n",
        "\r\n",
        "label_list = []\r\n",
        "img_list = []\r\n",
        "\r\n",
        "#tuns through label table\r\n",
        "for ind, row in labels.iterrows():\r\n",
        "  label_list.append(row['Label'])\r\n",
        "  img_list.append(row['Image'])\r\n",
        "\r\n",
        "label_df['Image Name'] = img_list\r\n",
        "label_df['Label'] = label_list\r\n",
        "\r\n",
        "#now, we sort both dataframes acoording to image name, to assure label matching\r\n",
        "\r\n",
        "label_df = label_df.sort_values(by = ['Image Name'])\r\n",
        "df = df.sort_values(by = ['Image Name'])\r\n",
        "#we can now merge both dfs\r\n",
        "\r\n",
        "df['Label'] = label_df['Label'].values"
      ],
      "execution_count": null,
      "outputs": []
    },
    {
      "cell_type": "code",
      "metadata": {
        "id": "k7i0QESV7bJl"
      },
      "source": [
        "#save df into pickle database\n",
        "\n",
        "df.to_pickle('OUTPUT_PATH/FILENAME.pickle')\n",
        "df"
      ],
      "execution_count": null,
      "outputs": []
    },
    {
      "cell_type": "markdown",
      "metadata": {
        "id": "PHt6Lr_d7bJm"
      },
      "source": [
        "# Calculate Features"
      ]
    },
    {
      "cell_type": "code",
      "metadata": {
        "id": "b-3jXut77bJm"
      },
      "source": [
        "#initial imports -- includes py files for feature calculation\n",
        "#!pip install mahotas\n",
        "import pandas as pd\n",
        "import numpy as np\n",
        "from RegionPropsMorph import RegionPropsMorph\n",
        "from RegionPropsInt import RegionPropsInt\n",
        "from FreqAnalysis import FreqAnalysis\n",
        "from GLCM import GLCM"
      ],
      "execution_count": null,
      "outputs": []
    },
    {
      "cell_type": "code",
      "metadata": {
        "colab": {
          "base_uri": "https://localhost:8080/"
        },
        "id": "vZnL9tW772vn",
        "outputId": "b8262ba5-d0cf-42a1-95bf-d6d999ac790e"
      },
      "source": [
        "#if data in drive\n",
        "from google.colab import drive\n",
        "drive.mount('/content/drive')"
      ],
      "execution_count": null,
      "outputs": [
        {
          "output_type": "stream",
          "text": [
            "Drive already mounted at /content/drive; to attempt to forcibly remount, call drive.mount(\"/content/drive\", force_remount=True).\n"
          ],
          "name": "stdout"
        }
      ]
    },
    {
      "cell_type": "code",
      "metadata": {
        "id": "UJ-ugS3G7bJn"
      },
      "source": [
        "#read the pandas dataframe\n",
        "\n",
        "df_patches = pd.read_pickle('OUTPUT_PATH/FILENAME.pickle')\n",
        "df_patches"
      ],
      "execution_count": null,
      "outputs": []
    },
    {
      "cell_type": "code",
      "metadata": {
        "id": "MeDj5sQf7bJo",
        "scrolled": false
      },
      "source": [
        "#calculate features\n",
        "\n",
        "\n",
        "df_base = df_patches['Patch']\n",
        "\n",
        "df = pd.DataFrame(data = df_patches.values, columns = df_patches.columns)\n",
        "\n",
        "final_morph = []\n",
        "final_int = []\n",
        "final_glcm = []\n",
        "final_freqs = []\n",
        "\n",
        "\n",
        "for index, row in enumerate(df_base):\n",
        "\n",
        "        patch = row\n",
        "      \n",
        "        #calculate features\n",
        "        propsmorph = RegionPropsMorph(patch)\n",
        "        propsint = RegionPropsInt(patch)\n",
        "        glcm = GLCM(patch)\n",
        "        freqs = FreqAnalysis(patch)\n",
        "        \n",
        "        #obtain feature labels (invariant) and their values\n",
        "        morph_labels, morph_values = propsmorph.print_features(print_values = False) #change to true to see feature values\n",
        "        int_labels, int_values = propsint.print_features(print_values = False)\n",
        "        glcm_labels, glcm_values = glcm.print_features(print_values = False)\n",
        "        freqs_labels, freqs_values = freqs.print_features(print_values = False)\n",
        "\n",
        "        #add each feature to its respective list, which will then be put into the dataframe\n",
        "        for i in np.arange(len(morph_values)):\n",
        "          if len(final_morph) < len(morph_values):\n",
        "                  final_morph.append([morph_values[i]])\n",
        "          else:\n",
        "              final_morph[i].append(morph_values[i])\n",
        "\n",
        "        for i in np.arange(len(int_values)):\n",
        "          if len(final_int) < len(int_values):\n",
        "                  final_int.append([int_values[i]])\n",
        "          else:\n",
        "              final_int[i].append(int_values[i])\n",
        "              \n",
        "        for i in np.arange(len(glcm_values)):\n",
        "            if len(final_glcm) < len(glcm_values):\n",
        "                    final_glcm.append([glcm_values[i]])\n",
        "            else:\n",
        "                final_glcm[i].append(glcm_values[i])\n",
        "\n",
        "        for i in np.arange(len(freqs_values)):\n",
        "            if len(final_freqs) < len(freqs_values):\n",
        "                    final_freqs.append([freqs_values[i]])\n",
        "            else:\n",
        "                final_freqs[i].append(freqs_values[i])\n",
        "\n",
        "#add features to dataframe and visualize\n",
        "\n",
        "for i in np.arange(len(morph_labels)):\n",
        "    df[morph_labels[i]] = final_morph[i]\n",
        "\n",
        "for i in np.arange(len(int_labels)):\n",
        "    df[int_labels[i]] = final_int[i]\n",
        "    \n",
        "for i in np.arange(len(glcm_labels)):\n",
        "    df[glcm_labels[i]] = final_glcm[i]\n",
        "\n",
        "for i in np.arange(len(freqs_labels)):\n",
        "    df[freqs_labels[i]] = final_freqs[i]\n",
        "\n",
        "\n",
        "df"
      ],
      "execution_count": null,
      "outputs": []
    },
    {
      "cell_type": "code",
      "metadata": {
        "id": "ysPRQzpM7bJs",
        "scrolled": true
      },
      "source": [
        "#save the new dataframe\n",
        "\n",
        "df.to_pickle('PATH_TO_OUTPUT/FEATURE_DATABASE.pickle')\n",
        "\n",
        "#if wanting to save to xlsx file, uncomment the following:\n",
        "#excel_name = 'all.xlsx'\n",
        "#df_path =  excel_name\n",
        "#df.to_excel(df_path) \n",
        "\n"
      ],
      "execution_count": null,
      "outputs": []
    },
    {
      "cell_type": "markdown",
      "metadata": {
        "id": "YWVWoKqa7bJt"
      },
      "source": [
        "# Data Visualisation (incomplete)"
      ]
    },
    {
      "cell_type": "code",
      "metadata": {
        "id": "sG90PYcr7bJu"
      },
      "source": [
        "#initial imports\n",
        "#!pip install statannot\n",
        "import numpy as np\n",
        "import pandas as pd\n",
        "import os\n",
        "import seaborn as sns\n",
        "import warnings\n",
        "warnings.filterwarnings(\"ignore\")\n",
        "import matplotlib.pyplot as plt\n",
        "import scipy.stats as stats\n",
        "from termcolor import colored\n",
        "from statannot import add_stat_annotation\n",
        "import pickle\n"
      ],
      "execution_count": null,
      "outputs": []
    },
    {
      "cell_type": "code",
      "metadata": {
        "colab": {
          "base_uri": "https://localhost:8080/"
        },
        "id": "5nUXC2TL7bJu",
        "outputId": "c529b3b5-703c-4f9f-be9a-4af162a15ff4"
      },
      "source": [
        "#if data in drive\n",
        "from google.colab import drive\n",
        "drive.mount('/content/drive')"
      ],
      "execution_count": null,
      "outputs": [
        {
          "output_type": "stream",
          "text": [
            "Mounted at /content/drive\n"
          ],
          "name": "stdout"
        }
      ]
    },
    {
      "cell_type": "code",
      "metadata": {
        "id": "PNsEvyYc7bJv"
      },
      "source": [
        "#import dataframe\n",
        "\n",
        "df = pd.read_pickle('PATH_TO_OUTPUT/FEATURE_DATABASE.pickle')\n",
        "df.index = np.arange(df.shape[0]) #not mandatory. only if any images are excluded in intermediate steps\n",
        "\n",
        "df"
      ],
      "execution_count": null,
      "outputs": []
    },
    {
      "cell_type": "code",
      "metadata": {
        "colab": {
          "base_uri": "https://localhost:8080/",
          "height": 385
        },
        "id": "MCC_uk4I7bJv",
        "outputId": "3053510d-d2e9-46ff-e1bf-848d34ce7ca0"
      },
      "source": [
        "#Getting labels\n",
        "\n",
        "df_labels = df['Label']"
      ],
      "execution_count": null,
      "outputs": [
        {
          "output_type": "stream",
          "text": [
            "(3, 1)\n",
            "(2, 1)\n",
            "(3, 1)\n"
          ],
          "name": "stdout"
        },
        {
          "output_type": "execute_result",
          "data": {
            "text/html": [
              "<div>\n",
              "<style scoped>\n",
              "    .dataframe tbody tr th:only-of-type {\n",
              "        vertical-align: middle;\n",
              "    }\n",
              "\n",
              "    .dataframe tbody tr th {\n",
              "        vertical-align: top;\n",
              "    }\n",
              "\n",
              "    .dataframe thead th {\n",
              "        text-align: right;\n",
              "    }\n",
              "</style>\n",
              "<table border=\"1\" class=\"dataframe\">\n",
              "  <thead>\n",
              "    <tr style=\"text-align: right;\">\n",
              "      <th></th>\n",
              "      <th>Label</th>\n",
              "    </tr>\n",
              "  </thead>\n",
              "  <tbody>\n",
              "    <tr>\n",
              "      <th>0</th>\n",
              "      <td>0</td>\n",
              "    </tr>\n",
              "    <tr>\n",
              "      <th>1</th>\n",
              "      <td>0</td>\n",
              "    </tr>\n",
              "    <tr>\n",
              "      <th>2</th>\n",
              "      <td>1</td>\n",
              "    </tr>\n",
              "    <tr>\n",
              "      <th>3</th>\n",
              "      <td>0</td>\n",
              "    </tr>\n",
              "    <tr>\n",
              "      <th>4</th>\n",
              "      <td>1</td>\n",
              "    </tr>\n",
              "    <tr>\n",
              "      <th>5</th>\n",
              "      <td>2</td>\n",
              "    </tr>\n",
              "    <tr>\n",
              "      <th>6</th>\n",
              "      <td>2</td>\n",
              "    </tr>\n",
              "    <tr>\n",
              "      <th>7</th>\n",
              "      <td>2</td>\n",
              "    </tr>\n",
              "    <tr>\n",
              "      <th>8</th>\n",
              "      <td>3</td>\n",
              "    </tr>\n",
              "    <tr>\n",
              "      <th>9</th>\n",
              "      <td>3</td>\n",
              "    </tr>\n",
              "  </tbody>\n",
              "</table>\n",
              "</div>"
            ],
            "text/plain": [
              "   Label\n",
              "0      0\n",
              "1      0\n",
              "2      1\n",
              "3      0\n",
              "4      1\n",
              "5      2\n",
              "6      2\n",
              "7      2\n",
              "8      3\n",
              "9      3"
            ]
          },
          "metadata": {
            "tags": []
          },
          "execution_count": 59
        }
      ]
    }
  ]
}